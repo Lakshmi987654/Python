{
 "cells": [
  {
   "cell_type": "code",
   "execution_count": 5,
   "id": "af82db66-4b6b-40b4-b2a3-a57374e6fe02",
   "metadata": {},
   "outputs": [
    {
     "ename": "IndentationError",
     "evalue": "unexpected indent (54646427.py, line 2)",
     "output_type": "error",
     "traceback": [
      "\u001b[1;36m  Cell \u001b[1;32mIn[5], line 2\u001b[1;36m\u001b[0m\n\u001b[1;33m    import\tre\u001b[0m\n\u001b[1;37m    ^\u001b[0m\n\u001b[1;31mIndentationError\u001b[0m\u001b[1;31m:\u001b[0m unexpected indent\n"
     ]
    }
   ],
   "source": [
    "print('Name:\tLAKSHMI DEVI S J\t\\nUSN:\t1AY24AI059\t\\nSection:\tM\\n\t')\n",
    " import\tre\n",
    " def mad_libs(file_path,\toutput_path=\"mad_libs_result.txt\"):\n",
    "\t\t\t\twith\topen(file_path,\t'r')\tas\tfile:\n",
    "\t\t\t\t\t\t\t\ttext\t=\tfile.read()\n",
    "\t\t\t\tplaceholders\t=\t[\"ADJECTIVE\",\t\"NOUN\",\t\"ADVERB\",\t\"VERB\"]\n",
    "\t\t\t\t\n",
    "\t\t\t\tpattern\t=\tr'\\b('\t+\t'|'.join(placeholders)\t+\tr')\\b'\n",
    "\t\t\t\tmatches\t=\tlist(re.finditer(pattern,\ttext))\n",
    "\t\t\t\tnew_words\t=\t[]\n",
    "\t\t\t\tfor\tmatch\tin\tmatches:\n",
    "\t\t\t\t\t\t\t\tword_type\t=\tmatch.group()\n",
    "\t\t\t\t\t\t\t\tarticle\t=\t\"an\"\tif\tword_type[0]\tin\t'AEIOU'\telse\t\"a\"\n",
    "\t\t\t\t\t\t\t\tuser_input\t=\tinput(f\"Enter\t{article.lower()}\t{word_type.lower()}:\t\")\n",
    "\t\t\t\t\t\t\t\tnew_words.append(user_input)\n",
    "\t\t\t\tresult_text\t=\ttext\n",
    "\t\t\t\tfor\tmatch,\treplacement\tin\tzip(matches,\tnew_words):\n",
    "\t\t\t\t\t\t\t\tresult_text\t=\tresult_text.replace(match.group(),\treplacement,\t1)\n",
    "\t\t\t\tprint(\"\\nFinal\tMad\tLibs\tstory:\\n\")\n",
    "\t\t\t\tprint(result_text)\n",
    "\t\t\t\twith\topen(output_path,\t'w')\tas\tout_file:\n",
    "\t\t\t\t\t\t\t\tout_file.write(result_text)\n",
    "\t\t\t\tprint(f\"\\nStory\tsaved\tto\t'{output_path}'\")\n",
    " if\t__name__\t==\t\"__main__\":\n",
    "\t\t\t\tinput_file\t=\tinput(\"Enter\tthe\tname\tof\tthe\tMad\tLibs\ttemplate\tfile:\t\")\n",
    "\t\t\t\tmad_libs(input_file)"
   ]
  },
  {
   "cell_type": "code",
   "execution_count": null,
   "id": "27cac8ee-67a8-4644-b789-8fcbd26c5062",
   "metadata": {},
   "outputs": [],
   "source": []
  }
 ],
 "metadata": {
  "kernelspec": {
   "display_name": "Python [conda env:base] *",
   "language": "python",
   "name": "conda-base-py"
  },
  "language_info": {
   "codemirror_mode": {
    "name": "ipython",
    "version": 3
   },
   "file_extension": ".py",
   "mimetype": "text/x-python",
   "name": "python",
   "nbconvert_exporter": "python",
   "pygments_lexer": "ipython3",
   "version": "3.12.7"
  }
 },
 "nbformat": 4,
 "nbformat_minor": 5
}
